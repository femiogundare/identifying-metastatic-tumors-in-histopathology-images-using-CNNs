{
 "cells": [
  {
   "cell_type": "code",
   "execution_count": 1,
   "metadata": {},
   "outputs": [],
   "source": [
    "import os\n",
    "import itertools\n",
    "import numpy as np\n",
    "import pandas as pd\n",
    "import seaborn as sns\n",
    "from matplotlib import pyplot as plt\n",
    "from sklearn.metrics import roc_auc_score, roc_curve, confusion_matrix"
   ]
  },
  {
   "cell_type": "code",
   "execution_count": 2,
   "metadata": {},
   "outputs": [],
   "source": [
    "PREDICTIONS_PATH = 'C:\\\\Users\\\\Dell\\\\Desktop\\\\CV Projects\\\\Histopathologic Cancer Detection/predictions'"
   ]
  },
  {
   "cell_type": "code",
   "execution_count": 3,
   "metadata": {},
   "outputs": [
    {
     "data": {
      "text/plain": [
       "['densenet169_preds.csv',\n",
       " 'densenet201_preds.csv',\n",
       " 'resnet101_preds.csv',\n",
       " 'resnet50_preds.csv']"
      ]
     },
     "execution_count": 3,
     "metadata": {},
     "output_type": "execute_result"
    }
   ],
   "source": [
    "os.listdir(PREDICTIONS_PATH)"
   ]
  },
  {
   "cell_type": "code",
   "execution_count": 4,
   "metadata": {},
   "outputs": [
    {
     "data": {
      "text/html": [
       "<div>\n",
       "<style scoped>\n",
       "    .dataframe tbody tr th:only-of-type {\n",
       "        vertical-align: middle;\n",
       "    }\n",
       "\n",
       "    .dataframe tbody tr th {\n",
       "        vertical-align: top;\n",
       "    }\n",
       "\n",
       "    .dataframe thead th {\n",
       "        text-align: right;\n",
       "    }\n",
       "</style>\n",
       "<table border=\"1\" class=\"dataframe\">\n",
       "  <thead>\n",
       "    <tr style=\"text-align: right;\">\n",
       "      <th></th>\n",
       "      <th>id</th>\n",
       "      <th>label</th>\n",
       "      <th>prediction</th>\n",
       "    </tr>\n",
       "  </thead>\n",
       "  <tbody>\n",
       "    <tr>\n",
       "      <th>0</th>\n",
       "      <td>2d444f24aaeb77d5f8dd1d9e3c90c04e8c4c1fd0</td>\n",
       "      <td>0</td>\n",
       "      <td>0.000362</td>\n",
       "    </tr>\n",
       "    <tr>\n",
       "      <th>1</th>\n",
       "      <td>76a21d7d94abc035ec9b61f199699fcf5372bd15</td>\n",
       "      <td>1</td>\n",
       "      <td>0.956202</td>\n",
       "    </tr>\n",
       "    <tr>\n",
       "      <th>2</th>\n",
       "      <td>297956b5014d2d26af2ee53f64123cd3dc2af263</td>\n",
       "      <td>1</td>\n",
       "      <td>0.999992</td>\n",
       "    </tr>\n",
       "    <tr>\n",
       "      <th>3</th>\n",
       "      <td>76260356263148fcf00426dfcfbd218d9dfa3e58</td>\n",
       "      <td>0</td>\n",
       "      <td>0.000106</td>\n",
       "    </tr>\n",
       "    <tr>\n",
       "      <th>4</th>\n",
       "      <td>cc0c031df0fbde96d4520d68568ba390bdd40c6f</td>\n",
       "      <td>1</td>\n",
       "      <td>0.999043</td>\n",
       "    </tr>\n",
       "  </tbody>\n",
       "</table>\n",
       "</div>"
      ],
      "text/plain": [
       "                                         id  label  prediction\n",
       "0  2d444f24aaeb77d5f8dd1d9e3c90c04e8c4c1fd0      0    0.000362\n",
       "1  76a21d7d94abc035ec9b61f199699fcf5372bd15      1    0.956202\n",
       "2  297956b5014d2d26af2ee53f64123cd3dc2af263      1    0.999992\n",
       "3  76260356263148fcf00426dfcfbd218d9dfa3e58      0    0.000106\n",
       "4  cc0c031df0fbde96d4520d68568ba390bdd40c6f      1    0.999043"
      ]
     },
     "execution_count": 4,
     "metadata": {},
     "output_type": "execute_result"
    }
   ],
   "source": [
    "# Check the predictions csv file of DenseNet169\n",
    "pd.read_csv(PREDICTIONS_PATH + '/densenet169_preds.csv').head()"
   ]
  },
  {
   "cell_type": "code",
   "execution_count": 5,
   "metadata": {},
   "outputs": [],
   "source": [
    "# Read the csv file of the predictions of all the neural networks and put them in a list\n",
    "\n",
    "combined_predictions = [\n",
    "    pd.read_csv(PREDICTIONS_PATH + '/' + pred_file) for pred_file in os.listdir(PREDICTIONS_PATH)\n",
    "]"
   ]
  },
  {
   "cell_type": "code",
   "execution_count": 6,
   "metadata": {},
   "outputs": [],
   "source": [
    "x = np.zeros((len(combined_predictions[0]), len(os.listdir(PREDICTIONS_PATH))))\n",
    "\n",
    "for k in range(len(os.listdir(PREDICTIONS_PATH))):\n",
    "    x[:, k] = combined_predictions[k].prediction.values\n",
    "\n",
    "target = combined_predictions[0].label.values"
   ]
  },
  {
   "cell_type": "code",
   "execution_count": 7,
   "metadata": {},
   "outputs": [],
   "source": [
    "network_names = ['DenseNet169', 'DenseNet201', 'ResNet101', 'ResNet50']"
   ]
  },
  {
   "cell_type": "code",
   "execution_count": 8,
   "metadata": {},
   "outputs": [
    {
     "name": "stdout",
     "output_type": "stream",
     "text": [
      "Computing scores for DenseNet169...\n",
      "Computing scores for DenseNet201...\n",
      "Computing scores for ResNet101...\n",
      "Computing scores for ResNet50...\n"
     ]
    }
   ],
   "source": [
    "sensitivity_scores = []\n",
    "specificity_scores = []\n",
    "auc_scores = []\n",
    "\n",
    "for k in range(x.shape[1]):\n",
    "    print('Computing scores for {}...'.format(network_names[k]))\n",
    "    predictions = x[:, k]\n",
    "    prediction_labels = [1 if pred>=0.5 else 0 for pred in predictions]\n",
    "    pred_labels = [1 if pred>=0.5 else 0 for pred in predictions]\n",
    "    cnf_matrix = confusion_matrix(target, prediction_labels)\n",
    "    tn, fn, tp, fp = cnf_matrix[0][0], cnf_matrix[1][0], cnf_matrix[1][1], cnf_matrix[0][1]\n",
    "    sensitivity_scores.append(round(tp/(tp+fn), 4))\n",
    "    specificity_scores.append(round(tn/(tn+fp), 4))\n",
    "    auc_scores.append(round(roc_auc_score(target, predictions), 4))\n",
    "    auc = roc_auc_score(target, x[:, k])"
   ]
  },
  {
   "cell_type": "code",
   "execution_count": 9,
   "metadata": {},
   "outputs": [
    {
     "name": "stdout",
     "output_type": "stream",
     "text": [
      "DenseNet169: Sensitivity = 0.9702, Specificty = 0.9796, AUC = 0.9957\n",
      "DenseNet201: Sensitivity = 0.9691, Specificty = 0.9809, AUC = 0.9955\n",
      "ResNet101: Sensitivity = 0.9693, Specificty = 0.9773, AUC = 0.9953\n",
      "ResNet50: Sensitivity = 0.9634, Specificty = 0.9826, AUC = 0.9949\n"
     ]
    }
   ],
   "source": [
    "for k in range(x.shape[1]):\n",
    "    print('{}: Sensitivity = {}, Specificty = {}, AUC = {}'.format(\n",
    "    network_names[k], round(sensitivity_scores[k], 4), \n",
    "    round(specificity_scores[k], 4), round(auc_scores[k], 4))\n",
    "         )"
   ]
  },
  {
   "cell_type": "code",
   "execution_count": 10,
   "metadata": {},
   "outputs": [
    {
     "name": "stdout",
     "output_type": "stream",
     "text": [
      "AUC: 0.9966\n",
      "Sensitivity: 0.9735\n",
      "Specificity: 0.9864\n"
     ]
    }
   ],
   "source": [
    "### ENSEMBLE\n",
    "\n",
    "# Compute the average of the predictions of the networks\n",
    "avg_preds = (x[:, 0] + x[:, 1] + x[:, 2] + x[:, 3])/4\n",
    "\n",
    "# Compute the AUC of the ensemble\n",
    "ensemble_auc_score = roc_auc_score(target, avg_preds)\n",
    "print('AUC: {:.4f}'.format(ensemble_auc_score))\n",
    "\n",
    "# Compute the Sensitivity and Specificity of the ensemble\n",
    "pred_labels = [1 if pred>=0.5 else 0 for pred in avg_preds]\n",
    "cnf_matrix = confusion_matrix(target, pred_labels)\n",
    "tn, fn, tp, fp = cnf_matrix[0][0], cnf_matrix[1][0], cnf_matrix[1][1], cnf_matrix[0][1]\n",
    "\n",
    "ensemble_sensitivity_score = tp/(tp+fn)\n",
    "ensemble_specificity_score = tn/(tn+fp)\n",
    "print('Sensitivity: {:.4f}'.format(ensemble_sensitivity_score))\n",
    "print('Specificity: {:.4f}'.format(ensemble_specificity_score))"
   ]
  },
  {
   "cell_type": "code",
   "execution_count": 11,
   "metadata": {},
   "outputs": [],
   "source": [
    "def plot_confusion_matrix(cm, classes,\n",
    "                          normalize=False,\n",
    "                          title='Confusion matrix',\n",
    "                          cmap=plt.cm.Blues):\n",
    "    \"\"\"\n",
    "    This function prints and plots the confusion matrix.\n",
    "    Normalization can be applied by setting `normalize=True`.\n",
    "    \"\"\"\n",
    "    if normalize:\n",
    "        cm = cm.astype('float') / cm.sum(axis=1)[:, np.newaxis]\n",
    "        print(\"Normalized confusion matrix\")\n",
    "    else:\n",
    "        print('Confusion matrix, without normalization')\n",
    "\n",
    "    print(cm)\n",
    "    \n",
    "    #plt.figure(figsize=(5, 5))\n",
    "    plt.imshow(cm, interpolation='nearest', cmap=cmap)\n",
    "    plt.title(title)\n",
    "    plt.colorbar()\n",
    "    tick_marks = np.arange(len(classes))\n",
    "    plt.xticks(tick_marks, classes, rotation=45)\n",
    "    plt.yticks(tick_marks, classes)\n",
    "\n",
    "    fmt = '.4f' if normalize else 'd'\n",
    "    thresh = cm.max() / 2.\n",
    "    for i, j in itertools.product(range(cm.shape[0]), range(cm.shape[1])):\n",
    "        plt.text(j, i, format(cm[i, j], fmt),\n",
    "                 horizontalalignment=\"center\",\n",
    "                 color=\"white\" if cm[i, j] > thresh else \"black\")\n",
    "\n",
    "    plt.ylabel('True label')\n",
    "    plt.xlabel('Predicted label')\n",
    "    plt.tight_layout()"
   ]
  },
  {
   "cell_type": "code",
   "execution_count": 12,
   "metadata": {},
   "outputs": [
    {
     "name": "stdout",
     "output_type": "stream",
     "text": [
      "Confusion matrix, without normalization\n",
      "[[12837   177]\n",
      " [  238  8750]]\n"
     ]
    },
    {
     "data": {
      "image/png": "[encoded data removed]",
      "text/plain": [
       "<Figure size 432x288 with 2 Axes>"
      ]
     },
     "metadata": {
      "needs_background": "light"
     },
     "output_type": "display_data"
    }
   ],
   "source": [
    "# Names of predicted classes\n",
    "classes_names = ['No Tumor', 'Tumor']\n",
    "\n",
    "# Plot non-normalized confusion matrix\n",
    "plt.figure()\n",
    "plot_confusion_matrix(cnf_matrix, classes=classes_names,\n",
    "                      title='Confusion matrix, without normalization')\n",
    "\n",
    "plt.show()"
   ]
  },
  {
   "cell_type": "code",
   "execution_count": 13,
   "metadata": {},
   "outputs": [
    {
     "data": {
      "image/png": "[encoded data removed]",
      "text/plain": [
       "<Figure size 576x360 with 1 Axes>"
      ]
     },
     "metadata": {},
     "output_type": "display_data"
    }
   ],
   "source": [
    "# Compute the ROC Curve of the ensemble\n",
    "fpr, tpr, _ = roc_curve(target, avg_preds, pos_label=1)\n",
    "\n",
    "# Plot the ROC Curve\n",
    "plt.style.use('seaborn')\n",
    "plt.figure(figsize=(8, 5))\n",
    "plt.plot(fpr, tpr, color='orange', label='ROC curve (area = %0.4f)' % ensemble_auc_score)\n",
    "plt.plot([0, 1], [0, 1], color='blue', linestyle='--')\n",
    "plt.title('Receiving Operating Characteristic Curve')\n",
    "plt.xlabel('False Positive Rate')\n",
    "plt.ylabel('True Positive Rate')\n",
    "plt.legend(loc=\"lower right\")\n",
    "plt.show()"
   ]
  },
  {
   "cell_type": "code",
   "execution_count": null,
   "metadata": {},
   "outputs": [],
   "source": []
  },
  {
   "cell_type": "code",
   "execution_count": 14,
   "metadata": {},
   "outputs": [],
   "source": [
    "# Store the results in a csv file\n",
    "results = pd.DataFrame({\n",
    "    'Neural Network' : ['DenseNet169', 'DenseNet201', 'ResNet101', 'ResNet50', 'Ensemble (Average)'],\n",
    "    'AUC (%)' : [auc_scores[0], auc_scores[1], auc_scores[2], auc_scores[3], round(ensemble_auc_score, 4)],\n",
    "    'Sensitivity (%)' : [sensitivity_scores[0], sensitivity_scores[1], sensitivity_scores[2], \n",
    "                     sensitivity_scores[3], round(ensemble_sensitivity_score, 4)\n",
    "                    ],\n",
    "    'Specificity (%)' : [specificity_scores[0], specificity_scores[1], specificity_scores[2], \n",
    "                     specificity_scores[3], round(ensemble_specificity_score, 4)\n",
    "                    ]\n",
    "    \n",
    "})\n",
    "\n",
    "results.set_index('Neural Network', drop=True, inplace=True)"
   ]
  },
  {
   "cell_type": "code",
   "execution_count": 15,
   "metadata": {},
   "outputs": [],
   "source": [
    "results = 100*results\n",
    "results.to_csv('results.csv')"
   ]
  },
  {
   "cell_type": "code",
   "execution_count": 16,
   "metadata": {},
   "outputs": [
    {
     "data": {
      "text/html": [
       "<div>\n",
       "<style scoped>\n",
       "    .dataframe tbody tr th:only-of-type {\n",
       "        vertical-align: middle;\n",
       "    }\n",
       "\n",
       "    .dataframe tbody tr th {\n",
       "        vertical-align: top;\n",
       "    }\n",
       "\n",
       "    .dataframe thead th {\n",
       "        text-align: right;\n",
       "    }\n",
       "</style>\n",
       "<table border=\"1\" class=\"dataframe\">\n",
       "  <thead>\n",
       "    <tr style=\"text-align: right;\">\n",
       "      <th></th>\n",
       "      <th>AUC (%)</th>\n",
       "      <th>Sensitivity (%)</th>\n",
       "      <th>Specificity (%)</th>\n",
       "    </tr>\n",
       "    <tr>\n",
       "      <th>Neural Network</th>\n",
       "      <th></th>\n",
       "      <th></th>\n",
       "      <th></th>\n",
       "    </tr>\n",
       "  </thead>\n",
       "  <tbody>\n",
       "    <tr>\n",
       "      <th>DenseNet169</th>\n",
       "      <td>99.57</td>\n",
       "      <td>97.02</td>\n",
       "      <td>97.96</td>\n",
       "    </tr>\n",
       "    <tr>\n",
       "      <th>DenseNet201</th>\n",
       "      <td>99.55</td>\n",
       "      <td>96.91</td>\n",
       "      <td>98.09</td>\n",
       "    </tr>\n",
       "    <tr>\n",
       "      <th>ResNet101</th>\n",
       "      <td>99.53</td>\n",
       "      <td>96.93</td>\n",
       "      <td>97.73</td>\n",
       "    </tr>\n",
       "    <tr>\n",
       "      <th>ResNet50</th>\n",
       "      <td>99.49</td>\n",
       "      <td>96.34</td>\n",
       "      <td>98.26</td>\n",
       "    </tr>\n",
       "    <tr>\n",
       "      <th>Ensemble (Average)</th>\n",
       "      <td>99.66</td>\n",
       "      <td>97.35</td>\n",
       "      <td>98.64</td>\n",
       "    </tr>\n",
       "  </tbody>\n",
       "</table>\n",
       "</div>"
      ],
      "text/plain": [
       "                    AUC (%)  Sensitivity (%)  Specificity (%)\n",
       "Neural Network                                               \n",
       "DenseNet169           99.57            97.02            97.96\n",
       "DenseNet201           99.55            96.91            98.09\n",
       "ResNet101             99.53            96.93            97.73\n",
       "ResNet50              99.49            96.34            98.26\n",
       "Ensemble (Average)    99.66            97.35            98.64"
      ]
     },
     "execution_count": 16,
     "metadata": {},
     "output_type": "execute_result"
    }
   ],
   "source": [
    "results"
   ]
  },
  {
   "cell_type": "code",
   "execution_count": null,
   "metadata": {},
   "outputs": [],
   "source": []
  }
 ],
 "metadata": {
  "kernelspec": {
   "display_name": "Python 3.7 (tensorflow)",
   "language": "python",
   "name": "tensorflow"
  },
  "language_info": {
   "codemirror_mode": {
    "name": "ipython",
    "version": 3
   },
   "file_extension": ".py",
   "mimetype": "text/x-python",
   "name": "python",
   "nbconvert_exporter": "python",
   "pygments_lexer": "ipython3",
   "version": "3.7.7"
  }
 },
 "nbformat": 4,
 "nbformat_minor": 4
}
